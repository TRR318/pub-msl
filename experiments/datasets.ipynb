{
 "cells": [
  {
   "cell_type": "code",
   "execution_count": 1,
   "metadata": {},
   "outputs": [],
   "source": [
    "from experiments.util import DataLoader\n",
    "import pandas as pd\n",
    "import numpy as np"
   ]
  },
  {
   "cell_type": "code",
   "execution_count": 2,
   "metadata": {},
   "outputs": [
    {
     "name": "stdout",
     "output_type": "stream",
     "text": [
      "\\begin{tabular}{lrrrrlr}\n",
      "\\toprule\n",
      "Name & Classes & Instances & Features & Gini & Task & Entropy \\\\\n",
      "\\midrule\n",
      "\\texttt{breast} & 2 & 116 & 9 & 0.989298 & Breast cancer & 0.992267 \\\\\n",
      "\\texttt{ilp} & 2 & 583 & 10 & 0.817585 & Liver disease & 0.864090 \\\\\n",
      "\\texttt{diabetes} & 2 & 768 & 8 & 0.908746 & Diabetes & 0.933134 \\\\\n",
      "\\texttt{iris} & 3 & 150 & 4 & 1.000000 & Flower species & 1.000000 \\\\\n",
      "\\texttt{wine} & 3 & 178 & 13 & 0.987470 & Wine origin & 0.988555 \\\\\n",
      "\\texttt{player} & 4 & 3611 & 11 & 0.908684 & Football player position & 0.898645 \\\\\n",
      "\\texttt{segmentation} & 4 & 6665 & 9 & 0.999324 & Customer category & 0.999267 \\\\\n",
      "\\bottomrule\n",
      "\\end{tabular}\n",
      "\n"
     ]
    },
    {
     "data": {
      "text/html": [
       "<div>\n",
       "<style scoped>\n",
       "    .dataframe tbody tr th:only-of-type {\n",
       "        vertical-align: middle;\n",
       "    }\n",
       "\n",
       "    .dataframe tbody tr th {\n",
       "        vertical-align: top;\n",
       "    }\n",
       "\n",
       "    .dataframe thead th {\n",
       "        text-align: right;\n",
       "    }\n",
       "</style>\n",
       "<table border=\"1\" class=\"dataframe\">\n",
       "  <thead>\n",
       "    <tr style=\"text-align: right;\">\n",
       "      <th></th>\n",
       "      <th>Name</th>\n",
       "      <th>Classes</th>\n",
       "      <th>Instances</th>\n",
       "      <th>Features</th>\n",
       "      <th>Gini</th>\n",
       "      <th>Task</th>\n",
       "      <th>Entropy</th>\n",
       "    </tr>\n",
       "  </thead>\n",
       "  <tbody>\n",
       "    <tr>\n",
       "      <th>0</th>\n",
       "      <td>\\texttt{breast}</td>\n",
       "      <td>2</td>\n",
       "      <td>116</td>\n",
       "      <td>9</td>\n",
       "      <td>0.989298</td>\n",
       "      <td>Breast cancer</td>\n",
       "      <td>0.992267</td>\n",
       "    </tr>\n",
       "    <tr>\n",
       "      <th>1</th>\n",
       "      <td>\\texttt{ilp}</td>\n",
       "      <td>2</td>\n",
       "      <td>583</td>\n",
       "      <td>10</td>\n",
       "      <td>0.817585</td>\n",
       "      <td>Liver disease</td>\n",
       "      <td>0.864090</td>\n",
       "    </tr>\n",
       "    <tr>\n",
       "      <th>2</th>\n",
       "      <td>\\texttt{diabetes}</td>\n",
       "      <td>2</td>\n",
       "      <td>768</td>\n",
       "      <td>8</td>\n",
       "      <td>0.908746</td>\n",
       "      <td>Diabetes</td>\n",
       "      <td>0.933134</td>\n",
       "    </tr>\n",
       "    <tr>\n",
       "      <th>3</th>\n",
       "      <td>\\texttt{iris}</td>\n",
       "      <td>3</td>\n",
       "      <td>150</td>\n",
       "      <td>4</td>\n",
       "      <td>1.000000</td>\n",
       "      <td>Flower species</td>\n",
       "      <td>1.000000</td>\n",
       "    </tr>\n",
       "    <tr>\n",
       "      <th>4</th>\n",
       "      <td>\\texttt{wine}</td>\n",
       "      <td>3</td>\n",
       "      <td>178</td>\n",
       "      <td>13</td>\n",
       "      <td>0.987470</td>\n",
       "      <td>Wine origin</td>\n",
       "      <td>0.988555</td>\n",
       "    </tr>\n",
       "    <tr>\n",
       "      <th>5</th>\n",
       "      <td>\\texttt{player}</td>\n",
       "      <td>4</td>\n",
       "      <td>3611</td>\n",
       "      <td>11</td>\n",
       "      <td>0.908684</td>\n",
       "      <td>Football player position</td>\n",
       "      <td>0.898645</td>\n",
       "    </tr>\n",
       "    <tr>\n",
       "      <th>6</th>\n",
       "      <td>\\texttt{segmentation}</td>\n",
       "      <td>4</td>\n",
       "      <td>6665</td>\n",
       "      <td>9</td>\n",
       "      <td>0.999324</td>\n",
       "      <td>Customer category</td>\n",
       "      <td>0.999267</td>\n",
       "    </tr>\n",
       "  </tbody>\n",
       "</table>\n",
       "</div>"
      ],
      "text/plain": [
       "                    Name  Classes  Instances  Features      Gini  \\\n",
       "0        \\texttt{breast}        2        116         9  0.989298   \n",
       "1           \\texttt{ilp}        2        583        10  0.817585   \n",
       "2      \\texttt{diabetes}        2        768         8  0.908746   \n",
       "3          \\texttt{iris}        3        150         4  1.000000   \n",
       "4          \\texttt{wine}        3        178        13  0.987470   \n",
       "5        \\texttt{player}        4       3611        11  0.908684   \n",
       "6  \\texttt{segmentation}        4       6665         9  0.999324   \n",
       "\n",
       "                       Task   Entropy  \n",
       "0             Breast cancer  0.992267  \n",
       "1             Liver disease  0.864090  \n",
       "2                  Diabetes  0.933134  \n",
       "3            Flower species  1.000000  \n",
       "4               Wine origin  0.988555  \n",
       "5  Football player position  0.898645  \n",
       "6         Customer category  0.999267  "
      ]
     },
     "execution_count": 2,
     "metadata": {},
     "output_type": "execute_result"
    }
   ],
   "source": [
    "df = pd.DataFrame([DataLoader(\"data\").stats(d)[0] for d in [42900, 41945,37, 61,187,\"player\", \"segmentation\"]], columns=[\"Classes\", \"Instances\", \"Features\", \"Gini\", \"Entropy\"])\n",
    "df.insert(0,\"Name\",[r\"\\texttt{breast}\",r\"\\texttt{ilp}\",r\"\\texttt{diabetes}\",r\"\\texttt{iris}\",r\"\\texttt{wine}\",r\"\\texttt{player}\",r\"\\texttt{segmentation}\"])\n",
    "df.insert(5,\"Task\",[\"Breast cancer\",\"Liver disease\",\"Diabetes\",\"Flower species\",\"Wine origin\",\"Football player position\",\"Customer category\"])\n",
    "\n",
    "print(df.to_latex(index=False))\n",
    "df"
   ]
  },
  {
   "cell_type": "code",
   "execution_count": 4,
   "metadata": {},
   "outputs": [
    {
     "data": {
      "text/plain": [
       "({'Entropy': 0.8640904272487623,\n",
       "  'Gini': 0.8175845643724862,\n",
       "  'Instances': 583,\n",
       "  'Features': 10,\n",
       "  'Classes': 2},\n",
       " array([167, 416]))"
      ]
     },
     "execution_count": 4,
     "metadata": {},
     "output_type": "execute_result"
    }
   ],
   "source": [
    "DataLoader(\"data\").stats(41945)"
   ]
  }
 ],
 "metadata": {
  "kernelspec": {
   "display_name": "pub-msl-FowhoNxu-py3.10",
   "language": "python",
   "name": "python3"
  },
  "language_info": {
   "codemirror_mode": {
    "name": "ipython",
    "version": 3
   },
   "file_extension": ".py",
   "mimetype": "text/x-python",
   "name": "python",
   "nbconvert_exporter": "python",
   "pygments_lexer": "ipython3",
   "version": "3.10.16"
  }
 },
 "nbformat": 4,
 "nbformat_minor": 2
}
