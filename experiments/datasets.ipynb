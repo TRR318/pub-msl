{
 "cells": [
  {
   "cell_type": "code",
   "execution_count": 1,
   "metadata": {},
   "outputs": [],
   "source": [
    "from experiments.util import DataLoader\n",
    "import pandas as pd\n",
    "import numpy as np\n",
    "from scipy.stats import entropy"
   ]
  },
  {
   "cell_type": "code",
   "execution_count": 21,
   "metadata": {},
   "outputs": [
    {
     "name": "stdout",
     "output_type": "stream",
     "text": [
      "\\begin{tabular}{lrrrrl}\n",
      "\\toprule\n",
      "Name & Classes & Instances & Features & Entropy & Task \\\\\n",
      "\\midrule\n",
      "\\texttt{breast} & 2 & 116 & 9 & 0.992267 & Breast cancer \\\\\n",
      "\\texttt{ilp} & 2 & 583 & 10 & 0.864090 & Liver disease \\\\\n",
      "\\texttt{diabetes} & 2 & 768 & 8 & 0.933134 & Diabetes \\\\\n",
      "\\texttt{iris} & 3 & 150 & 4 & 1.000000 & Flower species \\\\\n",
      "\\texttt{wine} & 3 & 178 & 13 & 0.988555 & Wine origin \\\\\n",
      "\\texttt{player} & 4 & 3611 & 11 & 0.898645 & Football player position \\\\\n",
      "\\texttt{segmentation} & 4 & 6665 & 9 & 0.999267 & Customer category \\\\\n",
      "\\bottomrule\n",
      "\\end{tabular}\n",
      "\n"
     ]
    }
   ],
   "source": [
    "df = pd.DataFrame([DataLoader(\"data\").stats(d) for d in [42900, 41945,37, 61,187,\"player\", \"segmentation\"]], columns=[\"Classes\", \"Instances\", \"Features\", \"Entropy\"])\n",
    "df.insert(0,\"Name\",[r\"\\texttt{breast}\",r\"\\texttt{ilp}\",r\"\\texttt{diabetes}\",r\"\\texttt{iris}\",r\"\\texttt{wine}\",r\"\\texttt{player}\",r\"\\texttt{segmentation}\"])\n",
    "df.insert(5,\"Task\",[\"Breast cancer\",\"Liver disease\",\"Diabetes\",\"Flower species\",\"Wine origin\",\"Football player position\",\"Customer category\"])\n",
    "\n",
    "print(df.to_latex(index=False))"
   ]
  }
 ],
 "metadata": {
  "kernelspec": {
   "display_name": "pub-msl-FowhoNxu-py3.10",
   "language": "python",
   "name": "python3"
  },
  "language_info": {
   "codemirror_mode": {
    "name": "ipython",
    "version": 3
   },
   "file_extension": ".py",
   "mimetype": "text/x-python",
   "name": "python",
   "nbconvert_exporter": "python",
   "pygments_lexer": "ipython3",
   "version": "3.10.16"
  }
 },
 "nbformat": 4,
 "nbformat_minor": 2
}
