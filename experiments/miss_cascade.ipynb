{
 "cells": [
  {
   "cell_type": "code",
   "execution_count": 2,
   "metadata": {},
   "outputs": [
    {
     "name": "stdout",
     "output_type": "stream",
     "text": [
      "warning: could not import fast log loss\n",
      "warning: returning handle to standard loss functions\n",
      "warning: could not import lookup log loss\n",
      "warning: returning handle to standard loss functions\n"
     ]
    }
   ],
   "source": [
    "import pandas as pd\n",
    "from miss import MISSClassifier\n",
    "from experiments.util import DataLoader\n",
    "import numpy as np\n",
    "from contextlib import redirect_stdout, redirect_stderr\n",
    "import os\n",
    "import matplotlib.pyplot as plt\n",
    "import seaborn as sns\n",
    "\n",
    "plt.rcParams[\"figure.figsize\"] = (12, 3)"
   ]
  },
  {
   "cell_type": "code",
   "execution_count": 3,
   "metadata": {},
   "outputs": [],
   "source": [
    "X,y = DataLoader(\"data\").load(\"player\")"
   ]
  },
  {
   "cell_type": "code",
   "execution_count": 4,
   "metadata": {},
   "outputs": [
    {
     "name": "stdout",
     "output_type": "stream",
     "text": [
      "0 0.0\n",
      "1 0.0\n",
      "2 6.673604210029216e-05\n",
      "3 9.940857791001168e-05\n",
      "4 9.502642918781584e-05\n",
      "5 9.988578940226863e-05\n"
     ]
    }
   ],
   "source": [
    "models = []\n",
    "for n in range(6):\n",
    "    with redirect_stdout(open(os.devnull, 'w')), redirect_stderr(open(os.devnull, 'w')):\n",
    "        clf = MISSClassifier(mc_l0_min=n, l0_min=n, l0_max=n, mc_l0_max=n,\n",
    "                                                            max_intercept=3,\n",
    "                                                            max_coefficient=3, max_runtime=30*60).fit(X,y)\n",
    "    models.append(clf._rho.reshape((-1,4)))\n",
    "    print(n, clf.optimality_gap())\n",
    "    "
   ]
  },
  {
   "cell_type": "code",
   "execution_count": 7,
   "metadata": {},
   "outputs": [
    {
     "data": {
      "image/png": "[encoded data removed]",
      "text/plain": [
       "<Figure size 1200x300 with 7 Axes>"
      ]
     },
     "metadata": {},
     "output_type": "display_data"
    }
   ],
   "source": [
    "fig,axes = plt.subplots(1, len(models))\n",
    "for i, ( model, ax) in enumerate(zip(models,axes.ravel())):\n",
    "    sns.heatmap(model, ax=ax, vmax=3.5, vmin=-3.5, center=0,cbar=i==len(models)-1, cmap=sns.color_palette(\"vlag\", 7))\n",
    "    if i>0:\n",
    "        ax.yaxis.set_visible(False) "
   ]
  },
  {
   "cell_type": "code",
   "execution_count": null,
   "metadata": {},
   "outputs": [],
   "source": []
  }
 ],
 "metadata": {
  "kernelspec": {
   "display_name": "pub-msl-FowhoNxu-py3.10",
   "language": "python",
   "name": "python3"
  },
  "language_info": {
   "codemirror_mode": {
    "name": "ipython",
    "version": 3
   },
   "file_extension": ".py",
   "mimetype": "text/x-python",
   "name": "python",
   "nbconvert_exporter": "python",
   "pygments_lexer": "ipython3",
   "version": "3.10.16"
  }
 },
 "nbformat": 4,
 "nbformat_minor": 2
}
