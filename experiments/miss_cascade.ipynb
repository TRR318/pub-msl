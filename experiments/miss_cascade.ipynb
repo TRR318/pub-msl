{
 "cells": [
  {
   "cell_type": "code",
   "execution_count": 2,
   "metadata": {},
   "outputs": [
    {
     "name": "stdout",
     "output_type": "stream",
     "text": [
      "warning: could not import fast log loss\n",
      "warning: returning handle to standard loss functions\n",
      "warning: could not import lookup log loss\n",
      "warning: returning handle to standard loss functions\n"
     ]
    }
   ],
   "source": [
    "from miss import MISSClassifier\n",
    "from experiments.util import DataLoader\n",
    "from contextlib import redirect_stdout, redirect_stderr\n",
    "import os\n",
    "import matplotlib.pyplot as plt\n",
    "import seaborn as sns\n",
    "\n",
    "plt.rcParams[\"figure.figsize\"] = (12, 3)"
   ]
  },
  {
   "cell_type": "code",
   "execution_count": 3,
   "metadata": {},
   "outputs": [],
   "source": [
    "X,y = DataLoader(\"data\").load(\"player\")"
   ]
  },
  {
   "cell_type": "code",
   "execution_count": 4,
   "metadata": {},
   "outputs": [
    {
     "name": "stdout",
     "output_type": "stream",
     "text": [
      "0 0.0\n",
      "1 0.0\n",
      "2 6.673604210029216e-05\n"
     ]
    }
   ],
   "source": [
    "models = []\n",
    "for n in range(6):\n",
    "    with redirect_stdout(open(os.devnull, 'w')), redirect_stderr(open(os.devnull, 'w')):\n",
    "        clf = MISSClassifier(mc_l0_min=n, l0_min=n, l0_max=n, mc_l0_max=n,\n",
    "                                                            max_intercept=3,\n",
    "                                                            max_coefficient=3, max_runtime=30*60).fit(X,y)\n",
    "    models.append(clf._rho.reshape((-1,4)))\n",
    "    print(n, clf.optimality_gap())"
   ]
  },
  {
   "cell_type": "code",
   "execution_count": null,
   "metadata": {},
   "outputs": [
    {
     "ename": "NameError",
     "evalue": "name 'plt' is not defined",
     "output_type": "error",
     "traceback": [
      "\u001b[0;31m---------------------------------------------------------------------------\u001b[0m",
      "\u001b[0;31mNameError\u001b[0m                                 Traceback (most recent call last)",
      "Cell \u001b[0;32mIn[2], line 1\u001b[0m\n\u001b[0;32m----> 1\u001b[0m fig,axes \u001b[38;5;241m=\u001b[39m \u001b[43mplt\u001b[49m\u001b[38;5;241m.\u001b[39msubplots(\u001b[38;5;241m1\u001b[39m, \u001b[38;5;28mlen\u001b[39m(models), layout\u001b[38;5;241m=\u001b[39m\u001b[38;5;124m'\u001b[39m\u001b[38;5;124mconstrained\u001b[39m\u001b[38;5;124m'\u001b[39m)\n\u001b[1;32m      2\u001b[0m \u001b[38;5;28;01mfor\u001b[39;00m i, ( model, ax) \u001b[38;5;129;01min\u001b[39;00m \u001b[38;5;28menumerate\u001b[39m(\u001b[38;5;28mzip\u001b[39m(models,axes\u001b[38;5;241m.\u001b[39mravel())):\n\u001b[1;32m      3\u001b[0m     sns\u001b[38;5;241m.\u001b[39mheatmap(model, ax\u001b[38;5;241m=\u001b[39max, vmax\u001b[38;5;241m=\u001b[39m\u001b[38;5;241m3.5\u001b[39m, vmin\u001b[38;5;241m=\u001b[39m\u001b[38;5;241m-\u001b[39m\u001b[38;5;241m3.5\u001b[39m, center\u001b[38;5;241m=\u001b[39m\u001b[38;5;241m0\u001b[39m,cbar\u001b[38;5;241m=\u001b[39mi\u001b[38;5;241m==\u001b[39m\u001b[38;5;28mlen\u001b[39m(models)\u001b[38;5;241m-\u001b[39m\u001b[38;5;241m1\u001b[39m, cmap\u001b[38;5;241m=\u001b[39msns\u001b[38;5;241m.\u001b[39mcolor_palette(\u001b[38;5;124m\"\u001b[39m\u001b[38;5;124mSpectral\u001b[39m\u001b[38;5;124m\"\u001b[39m, \u001b[38;5;241m7\u001b[39m), im_kw\u001b[38;5;241m=\u001b[39m\u001b[38;5;28mdict\u001b[39m(vmin\u001b[38;5;241m=\u001b[39m\u001b[38;5;241m0\u001b[39m, vmax\u001b[38;5;241m=\u001b[39m\u001b[38;5;241m1\u001b[39m))\n",
      "\u001b[0;31mNameError\u001b[0m: name 'plt' is not defined"
     ]
    }
   ],
   "source": [
    "fig,axes = plt.subplots(1, len(models), layout='constrained')\n",
    "for i, ( model, ax) in enumerate(zip(models,axes.ravel())):\n",
    "    sns.heatmap(model, ax=ax, vmax=3.5, vmin=-3.5, center=0,cbar=i==len(models)-1, cmap=sns.color_palette(\"Spectral\", 7))\n",
    "    ax.set_title(f\"Stage {i}\")\n",
    "    ax.set_ylabel(\"Features / Bias\")\n",
    "    ax.set_xlabel(\"Classes\")\n",
    "    if i>0:\n",
    "        ax.yaxis.set_visible(False)\n",
    "fig.savefig(\"fig/miss_cascade.pdf\", bbox_inches=\"tight\")"
   ]
  }
 ],
 "metadata": {
  "kernelspec": {
   "display_name": "pub-msl-FowhoNxu-py3.10",
   "language": "python",
   "name": "python3"
  },
  "language_info": {
   "codemirror_mode": {
    "name": "ipython",
    "version": 3
   },
   "file_extension": ".py",
   "mimetype": "text/x-python",
   "name": "python",
   "nbconvert_exporter": "python",
   "pygments_lexer": "ipython3",
   "version": "3.10.16"
  }
 },
 "nbformat": 4,
 "nbformat_minor": 2
}
